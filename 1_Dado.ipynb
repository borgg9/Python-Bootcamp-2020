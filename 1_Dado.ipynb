import random
print("Hola!!!, soy tu dado de la suerte")
y = input("Pulsa 's' si quieres que me tire: ")

while y == "s":
    x=random.randint(1,6)
    if x == 1:
        print("---------\n|       |\n|   0   |\n|       |\n---------")
    if x == 2:
        print("---------\n| 0     |\n|       |\n|     0 |\n---------")      
    if x == 3:
        print("---------\n|   0   |\n|   0   |\n|   0   |\n---------")      
    if x == 4:
        print("---------\n| 0   0 |\n|       |\n| 0   0 |\n---------")         
    if x == 5:
        print("---------\n| 0   0 |\n|   0   |\n| 0   0 |\n---------")       
    if x == 6:
        print("---------\n| 0   0 |\n| 0   0 |\n| 0   0 |\n---------")
        
    y = input("¿Quieres que me vuelva a tiar s/n?: ")

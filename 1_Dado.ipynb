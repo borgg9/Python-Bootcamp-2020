{
 "cells": [
  {
   "cell_type": "code",
   "execution_count": 4,
   "metadata": {},
   "outputs": [
    {
     "name": "stdout",
     "output_type": "stream",
     "text": [
      "Pulsa 's' y te tiro el dado: s\n",
      "-----\n",
      "| 5 |\n",
      "-----\n",
      "Mientras pulses 's' te sigo tirando el dado: s\n",
      "-----\n",
      "| 3 |\n",
      "-----\n",
      "Mientras pulses 's' te sigo tirando el dado: s\n",
      "-----\n",
      "| 6 |\n",
      "-----\n",
      "Mientras pulses 's' te sigo tirando el dado: s\n",
      "-----\n",
      "| 1 |\n",
      "-----\n",
      "Mientras pulses 's' te sigo tirando el dado: s\n",
      "-----\n",
      "| 2 |\n",
      "-----\n",
      "Mientras pulses 's' te sigo tirando el dado: s\n",
      "-----\n",
      "| 3 |\n",
      "-----\n",
      "Mientras pulses 's' te sigo tirando el dado: s\n",
      "-----\n",
      "| 3 |\n",
      "-----\n",
      "Mientras pulses 's' te sigo tirando el dado: s\n",
      "-----\n",
      "| 7 |\n",
      "-----\n",
      "Mientras pulses 's' te sigo tirando el dado: s\n",
      "-----\n",
      "| 6 |\n",
      "-----\n",
      "Mientras pulses 's' te sigo tirando el dado: f\n"
     ]
    }
   ],
   "source": [
    "import random\n",
    "\n",
    "y = input(\"Pulsa 's' y te tiro el dado: \")\n",
    "\n",
    "while y == \"s\":\n",
    "    x=random.randint(1,6)\n",
    "    print(\"-----\\n\"     \"|\", x ,\"|\\n\"    \"-----\")\n",
    "    y = input(\"Mientras pulses 's' te sigo tirando el dado: \")"
   ]
  },
  {
   "cell_type": "code",
   "execution_count": null,
   "metadata": {},
   "outputs": [
    {
     "name": "stdout",
     "output_type": "stream",
     "text": [
      "Hola!!!, soy tu dado de la suerte\n",
      "Pulsa 's' si quieres que me tire: s\n",
      "---------\n",
      "| 0   0 |\n",
      "|       |\n",
      "| 0   0 |\n",
      "---------\n",
      "¿Quieres que me vuelva a tiar s/n?: s\n",
      "---------\n",
      "| 0   0 |\n",
      "|       |\n",
      "| 0   0 |\n",
      "---------\n",
      "¿Quieres que me vuelva a tiar s/n?: s\n",
      "---------\n",
      "| 0     |\n",
      "|       |\n",
      "|     0 |\n",
      "---------\n",
      "¿Quieres que me vuelva a tiar s/n?: s\n",
      "---------\n",
      "| 0   0 |\n",
      "|       |\n",
      "| 0   0 |\n",
      "---------\n"
     ]
    }
   ],
   "source": [
    "import random\n",
    "print(\"Hola!!!, soy tu dado de la suerte\")\n",
    "y = input(\"Pulsa 's' si quieres que me tire: \")\n",
    "\n",
    "while y == \"s\":\n",
    "    x=random.randint(1,6)\n",
    "    if x == 1:\n",
    "        print(\"---------\\n|       |\\n|   0   |\\n|       |\\n---------\")\n",
    "    if x == 2:\n",
    "        print(\"---------\\n| 0     |\\n|       |\\n|     0 |\\n---------\")      \n",
    "    if x == 3:\n",
    "        print(\"---------\\n|   0   |\\n|   0   |\\n|   0   |\\n---------\")      \n",
    "    if x == 4:\n",
    "        print(\"---------\\n| 0   0 |\\n|       |\\n| 0   0 |\\n---------\")         \n",
    "    if x == 5:\n",
    "        print(\"---------\\n| 0   0 |\\n|   0   |\\n| 0   0 |\\n---------\")       \n",
    "    if x == 6:\n",
    "        print(\"---------\\n| 0   0 |\\n| 0   0 |\\n| 0   0 |\\n---------\")\n",
    "        \n",
    "    y = input(\"¿Quieres que me vuelva a tiar s/n?: \")"
   ]
  },
  {
   "cell_type": "code",
   "execution_count": null,
   "metadata": {},
   "outputs": [],
   "source": []
  },
  {
   "cell_type": "code",
   "execution_count": null,
   "metadata": {},
   "outputs": [],
   "source": []
  }
 ],
 "metadata": {
  "kernelspec": {
   "display_name": "Python 3",
   "language": "python",
   "name": "python3"
  },
  "language_info": {
   "codemirror_mode": {
    "name": "ipython",
    "version": 3
   },
   "file_extension": ".py",
   "mimetype": "text/x-python",
   "name": "python",
   "nbconvert_exporter": "python",
   "pygments_lexer": "ipython3",
   "version": "3.7.4"
  }
 },
 "nbformat": 4,
 "nbformat_minor": 2
}
